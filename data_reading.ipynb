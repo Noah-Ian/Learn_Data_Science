{
 "cells": [
  {
   "cell_type": "code",
   "execution_count": 19,
   "id": "3ecdc46f",
   "metadata": {},
   "outputs": [],
   "source": [
    "file = open(\"noah.txt\",\"r\")"
   ]
  },
  {
   "cell_type": "code",
   "execution_count": 20,
   "id": "16c1b43d",
   "metadata": {},
   "outputs": [
    {
     "name": "stdout",
     "output_type": "stream",
     "text": [
      "man am so exhausted ! lol\n"
     ]
    }
   ],
   "source": [
    "content = file.read()\n",
    "\n",
    "print (content)\n",
    "\n",
    "file.close()"
   ]
  },
  {
   "cell_type": "code",
   "execution_count": 28,
   "id": "247f7298",
   "metadata": {},
   "outputs": [
    {
     "name": "stdout",
     "output_type": "stream",
     "text": [
      "stuff aint cmplex, i swear.\n",
      "wow..am having fun.this is an appended line.\n",
      "this is an appended line.\n",
      "this is an appended line.\n",
      "this is an appended line.\n",
      "this is an appended line.\n",
      "this is an appended line.\n",
      "this is an appended line.\n",
      "\n"
     ]
    }
   ],
   "source": [
    "#writing to a file\n",
    "\n",
    "with open(\"ian.txt\",\"a\") as file:\n",
    "    file.write(\"this is an appended line.\\n\")\n",
    "    \n",
    "with open(\"ian.txt\",\"r\") as file:\n",
    "    content = file.read()\n",
    "    print(content)\n",
    "    \n",
    "    \n"
   ]
  }
 ],
 "metadata": {
  "kernelspec": {
   "display_name": "base",
   "language": "python",
   "name": "python3"
  },
  "language_info": {
   "codemirror_mode": {
    "name": "ipython",
    "version": 3
   },
   "file_extension": ".py",
   "mimetype": "text/x-python",
   "name": "python",
   "nbconvert_exporter": "python",
   "pygments_lexer": "ipython3",
   "version": "3.12.7"
  }
 },
 "nbformat": 4,
 "nbformat_minor": 5
}
